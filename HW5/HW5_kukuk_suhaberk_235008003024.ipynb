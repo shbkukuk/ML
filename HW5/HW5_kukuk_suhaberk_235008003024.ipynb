{
 "cells": [
  {
   "metadata": {},
   "cell_type": "markdown",
   "source": "*Add Necessary Libraries*",
   "id": "3feb15566fffdf42"
  },
  {
   "cell_type": "code",
   "id": "initial_id",
   "metadata": {
    "collapsed": true,
    "ExecuteTime": {
     "end_time": "2024-05-28T18:08:21.260955Z",
     "start_time": "2024-05-28T18:08:21.253956Z"
    }
   },
   "source": [
    "import numpy as np\n",
    "import  seaborn as sns\n",
    "from sklearn.preprocessing import LabelEncoder\n",
    "from sklearn.base import clone\n",
    "from sklearn.model_selection import train_test_split\n",
    "from sklearn.ensemble import AdaBoostClassifier\n",
    "from sklearn.neural_network import MLPClassifier\n",
    "from sklearn.metrics import accuracy_score,confusion_matrix, classification_report\n",
    "from matplotlib import pyplot as plt\n",
    "from sklearn.preprocessing import StandardScaler\n",
    "from ucimlrepo import fetch_ucirepo"
   ],
   "outputs": [],
   "execution_count": 37
  },
  {
   "metadata": {},
   "cell_type": "markdown",
   "source": "# Part I: Select a dataset ",
   "id": "1506d630094a78a4"
  },
  {
   "metadata": {
    "ExecuteTime": {
     "end_time": "2024-05-28T17:54:47.486874Z",
     "start_time": "2024-05-28T17:54:45.948695Z"
    }
   },
   "cell_type": "code",
   "source": [
    "# fetch dataset \n",
    "iris = fetch_ucirepo(id=53) \n",
    "  \n",
    "# data (as pandas dataframes) \n",
    "X = iris.data.features \n",
    "y = iris.data.targets \n",
    "n_sample = X.shape[0]\n",
    "#preprocessing of data\n",
    "scale = StandardScaler()\n",
    "label_encoder = LabelEncoder()\n",
    "X = scale.fit_transform(X)\n",
    "y = label_encoder.fit_transform(y)\n",
    "y = y.reshape(n_sample,)\n",
    "X_train, X_test, y_train, y_test = train_test_split(X, y, test_size=0.2, random_state=0)\n",
    "print(X_train[:5])\n",
    "print(y_train[:5])\n",
    "print(np.unique(y_train))"
   ],
   "id": "2e9a13dc9a9ce98f",
   "outputs": [
    {
     "name": "stdout",
     "output_type": "stream",
     "text": [
      "[[ 0.67450115  0.10644536  0.99022146  0.79059079]\n",
      " [-0.53717756 -0.1249576   0.42156442  0.39617188]\n",
      " [-0.7795133   1.03205722 -1.2844067  -1.31297673]\n",
      " [ 0.31099753 -0.1249576   0.64902723  0.79059079]\n",
      " [ 0.67450115 -0.58776353  1.04708716  1.31648267]]\n",
      "[2 1 0 2 2]\n",
      "[0 1 2]\n"
     ]
    },
    {
     "name": "stderr",
     "output_type": "stream",
     "text": [
      "C:\\Users\\SBK\\anaconda3\\envs\\dl\\lib\\site-packages\\sklearn\\preprocessing\\_label.py:114: DataConversionWarning: A column-vector y was passed when a 1d array was expected. Please change the shape of y to (n_samples, ), for example using ravel().\n",
      "  y = column_or_1d(y, warn=True)\n"
     ]
    }
   ],
   "execution_count": 32
  },
  {
   "metadata": {},
   "cell_type": "markdown",
   "source": "# Part II: Train a multi-layer perceptron. ",
   "id": "a5d5b0d6335068bf"
  },
  {
   "metadata": {
    "ExecuteTime": {
     "end_time": "2024-05-28T17:49:34.029040Z",
     "start_time": "2024-05-28T17:49:32.631983Z"
    }
   },
   "cell_type": "code",
   "source": [
    "class customMLPClassifer(MLPClassifier):\n",
    "    def resample_with_replacement(self, X_train, y_train, sample_weight):\n",
    "\n",
    "        # normalize sample_weights if not already\n",
    "        sample_weight = sample_weight / sample_weight.sum(dtype=np.float64)\n",
    "\n",
    "        X_train_resampled = np.zeros((len(X_train), len(X_train[0])), dtype=np.float32)\n",
    "        y_train_resampled = np.zeros((len(y_train)), dtype=np.int_)\n",
    "        for i in range(len(X_train)):\n",
    "            # draw a number from 0 to len(X_train)-1\n",
    "            draw = np.random.choice(np.arange(len(X_train)), p=sample_weight)\n",
    "\n",
    "            # place the X and y at the drawn number into the resampled X and y\n",
    "            X_train_resampled[i] = X_train[draw]\n",
    "            y_train_resampled[i] = y_train[draw]\n",
    "\n",
    "        return X_train_resampled, y_train_resampled\n",
    "\n",
    "\n",
    "    def fit(self, X, y, sample_weight=None):\n",
    "        if sample_weight is not None:\n",
    "            X, y = self.resample_with_replacement(X, y, sample_weight)\n",
    "\n",
    "        return self._fit(X, y, incremental=(self.warm_start and\n",
    "                                            hasattr(self, \"classes_\")))\n",
    "base_classifier = customMLPClassifer(hidden_layer_sizes=(1,), activation='logistic', solver='lbfgs', random_state=1)\n",
    "clf = AdaBoostClassifier(estimator=base_classifier, n_estimators=100, random_state=1,algorithm='SAMME')\n",
    "clf.fit(X_train, y_train)"
   ],
   "id": "36c48f6e19826381",
   "outputs": [
    {
     "data": {
      "text/plain": [
       "AdaBoostClassifier(algorithm='SAMME',\n",
       "                   estimator=customMLPClassifer(activation='logistic',\n",
       "                                                hidden_layer_sizes=(1,),\n",
       "                                                random_state=1,\n",
       "                                                solver='lbfgs'),\n",
       "                   n_estimators=100, random_state=1)"
      ],
      "text/html": [
       "<style>#sk-container-id-1 {color: black;}#sk-container-id-1 pre{padding: 0;}#sk-container-id-1 div.sk-toggleable {background-color: white;}#sk-container-id-1 label.sk-toggleable__label {cursor: pointer;display: block;width: 100%;margin-bottom: 0;padding: 0.3em;box-sizing: border-box;text-align: center;}#sk-container-id-1 label.sk-toggleable__label-arrow:before {content: \"▸\";float: left;margin-right: 0.25em;color: #696969;}#sk-container-id-1 label.sk-toggleable__label-arrow:hover:before {color: black;}#sk-container-id-1 div.sk-estimator:hover label.sk-toggleable__label-arrow:before {color: black;}#sk-container-id-1 div.sk-toggleable__content {max-height: 0;max-width: 0;overflow: hidden;text-align: left;background-color: #f0f8ff;}#sk-container-id-1 div.sk-toggleable__content pre {margin: 0.2em;color: black;border-radius: 0.25em;background-color: #f0f8ff;}#sk-container-id-1 input.sk-toggleable__control:checked~div.sk-toggleable__content {max-height: 200px;max-width: 100%;overflow: auto;}#sk-container-id-1 input.sk-toggleable__control:checked~label.sk-toggleable__label-arrow:before {content: \"▾\";}#sk-container-id-1 div.sk-estimator input.sk-toggleable__control:checked~label.sk-toggleable__label {background-color: #d4ebff;}#sk-container-id-1 div.sk-label input.sk-toggleable__control:checked~label.sk-toggleable__label {background-color: #d4ebff;}#sk-container-id-1 input.sk-hidden--visually {border: 0;clip: rect(1px 1px 1px 1px);clip: rect(1px, 1px, 1px, 1px);height: 1px;margin: -1px;overflow: hidden;padding: 0;position: absolute;width: 1px;}#sk-container-id-1 div.sk-estimator {font-family: monospace;background-color: #f0f8ff;border: 1px dotted black;border-radius: 0.25em;box-sizing: border-box;margin-bottom: 0.5em;}#sk-container-id-1 div.sk-estimator:hover {background-color: #d4ebff;}#sk-container-id-1 div.sk-parallel-item::after {content: \"\";width: 100%;border-bottom: 1px solid gray;flex-grow: 1;}#sk-container-id-1 div.sk-label:hover label.sk-toggleable__label {background-color: #d4ebff;}#sk-container-id-1 div.sk-serial::before {content: \"\";position: absolute;border-left: 1px solid gray;box-sizing: border-box;top: 0;bottom: 0;left: 50%;z-index: 0;}#sk-container-id-1 div.sk-serial {display: flex;flex-direction: column;align-items: center;background-color: white;padding-right: 0.2em;padding-left: 0.2em;position: relative;}#sk-container-id-1 div.sk-item {position: relative;z-index: 1;}#sk-container-id-1 div.sk-parallel {display: flex;align-items: stretch;justify-content: center;background-color: white;position: relative;}#sk-container-id-1 div.sk-item::before, #sk-container-id-1 div.sk-parallel-item::before {content: \"\";position: absolute;border-left: 1px solid gray;box-sizing: border-box;top: 0;bottom: 0;left: 50%;z-index: -1;}#sk-container-id-1 div.sk-parallel-item {display: flex;flex-direction: column;z-index: 1;position: relative;background-color: white;}#sk-container-id-1 div.sk-parallel-item:first-child::after {align-self: flex-end;width: 50%;}#sk-container-id-1 div.sk-parallel-item:last-child::after {align-self: flex-start;width: 50%;}#sk-container-id-1 div.sk-parallel-item:only-child::after {width: 0;}#sk-container-id-1 div.sk-dashed-wrapped {border: 1px dashed gray;margin: 0 0.4em 0.5em 0.4em;box-sizing: border-box;padding-bottom: 0.4em;background-color: white;}#sk-container-id-1 div.sk-label label {font-family: monospace;font-weight: bold;display: inline-block;line-height: 1.2em;}#sk-container-id-1 div.sk-label-container {text-align: center;}#sk-container-id-1 div.sk-container {/* jupyter's `normalize.less` sets `[hidden] { display: none; }` but bootstrap.min.css set `[hidden] { display: none !important; }` so we also need the `!important` here to be able to override the default hidden behavior on the sphinx rendered scikit-learn.org. See: https://github.com/scikit-learn/scikit-learn/issues/21755 */display: inline-block !important;position: relative;}#sk-container-id-1 div.sk-text-repr-fallback {display: none;}</style><div id=\"sk-container-id-1\" class=\"sk-top-container\"><div class=\"sk-text-repr-fallback\"><pre>AdaBoostClassifier(algorithm=&#x27;SAMME&#x27;,\n",
       "                   estimator=customMLPClassifer(activation=&#x27;logistic&#x27;,\n",
       "                                                hidden_layer_sizes=(1,),\n",
       "                                                random_state=1,\n",
       "                                                solver=&#x27;lbfgs&#x27;),\n",
       "                   n_estimators=100, random_state=1)</pre><b>In a Jupyter environment, please rerun this cell to show the HTML representation or trust the notebook. <br />On GitHub, the HTML representation is unable to render, please try loading this page with nbviewer.org.</b></div><div class=\"sk-container\" hidden><div class=\"sk-item sk-dashed-wrapped\"><div class=\"sk-label-container\"><div class=\"sk-label sk-toggleable\"><input class=\"sk-toggleable__control sk-hidden--visually\" id=\"sk-estimator-id-1\" type=\"checkbox\" ><label for=\"sk-estimator-id-1\" class=\"sk-toggleable__label sk-toggleable__label-arrow\">AdaBoostClassifier</label><div class=\"sk-toggleable__content\"><pre>AdaBoostClassifier(algorithm=&#x27;SAMME&#x27;,\n",
       "                   estimator=customMLPClassifer(activation=&#x27;logistic&#x27;,\n",
       "                                                hidden_layer_sizes=(1,),\n",
       "                                                random_state=1,\n",
       "                                                solver=&#x27;lbfgs&#x27;),\n",
       "                   n_estimators=100, random_state=1)</pre></div></div></div><div class=\"sk-parallel\"><div class=\"sk-parallel-item\"><div class=\"sk-item\"><div class=\"sk-label-container\"><div class=\"sk-label sk-toggleable\"><input class=\"sk-toggleable__control sk-hidden--visually\" id=\"sk-estimator-id-2\" type=\"checkbox\" ><label for=\"sk-estimator-id-2\" class=\"sk-toggleable__label sk-toggleable__label-arrow\">estimator: customMLPClassifer</label><div class=\"sk-toggleable__content\"><pre>customMLPClassifer(activation=&#x27;logistic&#x27;, hidden_layer_sizes=(1,),\n",
       "                   random_state=1, solver=&#x27;lbfgs&#x27;)</pre></div></div></div><div class=\"sk-serial\"><div class=\"sk-item\"><div class=\"sk-estimator sk-toggleable\"><input class=\"sk-toggleable__control sk-hidden--visually\" id=\"sk-estimator-id-3\" type=\"checkbox\" ><label for=\"sk-estimator-id-3\" class=\"sk-toggleable__label sk-toggleable__label-arrow\">customMLPClassifer</label><div class=\"sk-toggleable__content\"><pre>customMLPClassifer(activation=&#x27;logistic&#x27;, hidden_layer_sizes=(1,),\n",
       "                   random_state=1, solver=&#x27;lbfgs&#x27;)</pre></div></div></div></div></div></div></div></div></div></div>"
      ]
     },
     "execution_count": 29,
     "metadata": {},
     "output_type": "execute_result"
    }
   ],
   "execution_count": 29
  },
  {
   "metadata": {},
   "cell_type": "markdown",
   "source": "## Evaluate Performance",
   "id": "ec3309f384b078fa"
  },
  {
   "metadata": {
    "ExecuteTime": {
     "end_time": "2024-05-28T18:06:25.589435Z",
     "start_time": "2024-05-28T18:06:25.469389Z"
    }
   },
   "cell_type": "code",
   "source": [
    "y_pred = clf.predict(X_test)\n",
    "print(\"***************************************************************************\")\n",
    "print(\"Test Confusing Matrix\")\n",
    "cm = confusion_matrix(y_test,y_pred)\n",
    "\n",
    "sns.set(font_scale=1)\n",
    "plt.figure(figsize=(10, 7))\n",
    "sns.heatmap(cm, annot=True, fmt='d', cmap='Blues', cbar=False)\n",
    "plt.xlabel('Predicted Labels')\n",
    "plt.ylabel('Actual Labels')\n",
    "plt.title('Confusion Matrix')\n",
    "plt.show()\n",
    "print(\"Test Accuracy: \",accuracy_score(y_test,y_pred)),\n",
    "print(\"***************************************************************************\")"
   ],
   "id": "a6923acbd5942446",
   "outputs": [
    {
     "name": "stdout",
     "output_type": "stream",
     "text": [
      "***************************************************************************\n",
      "Test Confusing Matrix\n"
     ]
    },
    {
     "data": {
      "text/plain": [
       "<Figure size 1000x700 with 1 Axes>"
      ],
      "image/png": "[encoded data removed]"
     },
     "metadata": {},
     "output_type": "display_data"
    },
    {
     "name": "stdout",
     "output_type": "stream",
     "text": [
      "Test Accuracy:  0.9666666666666667\n",
      "***************************************************************************\n"
     ]
    }
   ],
   "execution_count": 33
  },
  {
   "metadata": {},
   "cell_type": "markdown",
   "source": [
    "# Conclusion \n",
    "\n",
    "In this Part, we developed a custom multi-layer perceptron (MLP) classifier with an integrated resampling mechanism tailored for use within the AdaBoost framework. The primary motivation for our approach was to enhance model performance on imbalanced datasets by incorporating sample weighting directly into the training process.\n",
    "\n",
    "#### Implementation and Methodology\n",
    "\n",
    "We introduced a custom MLP classifier by subclassing the `MLPClassifier` from scikit-learn and adding a resampling method to handle sample weights. This resampling method, `resample_with_replacement`, normalizes the provided sample weights and resamples the training data accordingly. By doing so, it ensures that instances with higher weights are more likely to be selected, thus addressing the class imbalance issue effectively.\n",
    "\n",
    "The custom MLP classifier was then used as the base estimator in an AdaBoost classifier, configured with the SAMME algorithm. The AdaBoost model was trained with 100 iterations to optimize performance.\n",
    "\n",
    "#### Results\n",
    "\n",
    "The effectiveness of our custom classifier was evaluated on a test dataset, and the results were summarized using a confusion matrix and test accuracy metric. The confusion matrix displayed excellent classification performance across all classes:\n",
    "\n",
    "- **Class 0**: 11 true positives, 0 false positives, and 0 false negatives.\n",
    "- **Class 1**: 13 true positives, 0 false positives, and 0 false negatives.\n",
    "- **Class 2**: 5 true positives, 1 false positive, and 1 false negative.\n",
    "\n",
    "The overall test accuracy achieved was 96.67%, indicating a high level of performance and robustness of the model.\n",
    "\n",
    "\n",
    "The results demonstrate that our custom MLP classifier with integrated resampling significantly enhances the performance of the AdaBoost algorithm, especially in scenarios with class imbalances. The resampling method ensures that the model is trained effectively, giving due importance to underrepresented classes and thereby improving overall accuracy and generalization.\n",
    "\n",
    "Future work can explore further enhancements to the resampling technique and extend the approach to other types of classifiers. Additionally, testing on a broader range of datasets with varying degrees of imbalance would provide a more comprehensive validation of the method's effectiveness.\n",
    "\n",
    "---\n",
    "\n",
    "The high accuracy and balanced performance across different classes validate the potential of the proposed approach for practical applications in machine learning tasks involving imbalanced data."
   ],
   "id": "d0508a3f29a3216"
  },
  {
   "metadata": {},
   "cell_type": "markdown",
   "source": "# Part III: Train a random decision forest where each decision in the forest is in turn is a trainable perceptron.",
   "id": "af945bc32320c9b5"
  },
  {
   "metadata": {
    "ExecuteTime": {
     "end_time": "2024-05-28T18:08:25.985823Z",
     "start_time": "2024-05-28T18:08:25.968027Z"
    }
   },
   "cell_type": "code",
   "source": [
    "class CustomAdaBoost:\n",
    "    def __init__(self, base_estimator, n_estimators=50):\n",
    "        self.base_estimator = base_estimator\n",
    "        self.n_estimators = n_estimators\n",
    "        self.estimators_ = []\n",
    "        self.estimator_weights_ = []\n",
    "\n",
    "    def fit(self, X, y):\n",
    "        n_samples, _ = X.shape\n",
    "        sample_weights = np.ones(n_samples) / n_samples\n",
    "        \n",
    "        for _ in range(self.n_estimators):\n",
    "            # Fit a clone of the base estimator\n",
    "            estimator = clone(self.base_estimator)\n",
    "            estimator.fit(X, y, sample_weight=sample_weights)\n",
    "            y_pred = estimator.predict(X)\n",
    "            \n",
    "            # Calculate weighted error\n",
    "            incorrect = (y_pred != y)\n",
    "            estimator_error = np.mean(np.average(incorrect, weights=sample_weights, axis=0))\n",
    "            \n",
    "            # If the estimator is worse than random guessing, break\n",
    "            if estimator_error > 0.5:\n",
    "                break\n",
    "            \n",
    "            # Compute estimator weight\n",
    "            estimator_weight = np.log((1. - estimator_error) / estimator_error) + np.log(len(np.unique(y)) - 1)\n",
    "            \n",
    "            # Update sample weights\n",
    "            sample_weights *= np.exp(estimator_weight * incorrect)\n",
    "            sample_weights /= np.sum(sample_weights)\n",
    "            \n",
    "            # Save the estimator and its weight\n",
    "            self.estimators_.append(estimator)\n",
    "            self.estimator_weights_.append(estimator_weight)\n",
    "\n",
    "    def predict(self, X):\n",
    "        # Aggregate predictions from all estimators\n",
    "        preds = np.array([estimator.predict(X) for estimator in self.estimators_])\n",
    "        weighted_preds = np.average(preds, axis=0, weights=self.estimator_weights_)\n",
    "        return np.sign(weighted_preds).astype(int)"
   ],
   "id": "b701ea71c6470520",
   "outputs": [],
   "execution_count": 38
  },
  {
   "metadata": {
    "ExecuteTime": {
     "end_time": "2024-05-28T18:09:06.742605Z",
     "start_time": "2024-05-28T18:09:05.642579Z"
    }
   },
   "cell_type": "code",
   "source": [
    "base_estimator = customMLPClassifer(hidden_layer_sizes=(1,), activation='logistic', solver='lbfgs', random_state=1, max_iter=1000)\n",
    "clf = CustomAdaBoost(base_estimator=base_estimator, n_estimators=50)\n",
    "clf.fit(X_train, y_train)"
   ],
   "id": "4e05de694b7de357",
   "outputs": [],
   "execution_count": 40
  },
  {
   "metadata": {},
   "cell_type": "markdown",
   "source": "# Evaluate Performance",
   "id": "b50283dc0583902d"
  },
  {
   "metadata": {
    "ExecuteTime": {
     "end_time": "2024-05-28T18:10:30.675657Z",
     "start_time": "2024-05-28T18:10:30.570597Z"
    }
   },
   "cell_type": "code",
   "source": [
    "y_pred = clf.predict(X_test)\n",
    "print(\"***************************************************************************\")\n",
    "print(\"Test Confusing Matrix\")\n",
    "cm = confusion_matrix(y_test,y_pred)\n",
    "\n",
    "sns.set(font_scale=1)\n",
    "plt.figure(figsize=(10, 7))\n",
    "sns.heatmap(cm, annot=True, fmt='d', cmap='Blues', cbar=False)\n",
    "plt.xlabel('Predicted Labels')\n",
    "plt.ylabel('Actual Labels')\n",
    "plt.title('Confusion Matrix')\n",
    "plt.show()\n",
    "print(\"Test Accuracy: \",accuracy_score(y_test,y_pred)),\n",
    "print(\"***************************************************************************\")"
   ],
   "id": "eca8c5d8bdad7d63",
   "outputs": [
    {
     "name": "stdout",
     "output_type": "stream",
     "text": [
      "***************************************************************************\n",
      "Test Confusing Matrix\n"
     ]
    },
    {
     "data": {
      "text/plain": [
       "<Figure size 1000x700 with 1 Axes>"
      ],
      "image/png": "[encoded data removed]"
     },
     "metadata": {},
     "output_type": "display_data"
    },
    {
     "name": "stdout",
     "output_type": "stream",
     "text": [
      "Test Accuracy:  0.43333333333333335\n",
      "***************************************************************************\n"
     ]
    }
   ],
   "execution_count": 41
  },
  {
   "metadata": {},
   "cell_type": "markdown",
   "source": [
    "# Conclusion\n",
    "In this PArt, we implemented a custom AdaBoost classifier, `CustomAdaBoost`, and compared its performance with a previous approach that utilized a custom Multi-Layer Perceptron (MLP) classifier as the base estimator in an AdaBoost ensemble. The custom AdaBoost classifier was designed to iteratively fit weak learners (base estimators) and adjust their influence based on their individual performance, specifically focusing on handling imbalanced datasets through adaptive sample weighting.\n",
    "\n",
    "The custom AdaBoost classifier was tested with a base estimator configured similarly to the previous experiment: a custom MLP classifier with a single hidden layer using logistic activation and the LBFGS solver. However, the results from the custom AdaBoost implementation indicated a significantly lower test accuracy of 43.33%, as opposed to the 96.67% accuracy achieved by the earlier method.\n",
    "\n",
    "### Analysis of Results\n",
    "\n",
    "The confusion matrix for the custom AdaBoost classifier reveals a clear distinction in performance:\n",
    "\n",
    "- **Class 0**: None of the instances were correctly classified, leading to an accuracy of 0% for this class.\n",
    "- **Class 1**: All 13 instances were correctly classified, maintaining a high accuracy for this class.\n",
    "- **Class 2**: None of the instances were correctly classified, resulting in an accuracy of 0% for this class.\n",
    "\n",
    "In contrast, the previous method's confusion matrix showed a near-perfect classification performance across all classes, with minimal misclassifications.\n",
    "\n",
    "### Discussion\n",
    "\n",
    "The stark difference in performance can be attributed to several factors:\n",
    "\n",
    "1. **Estimator Error Handling**: The custom AdaBoost classifier prematurely terminates the training process if an estimator's error exceeds 0.5, which might have occurred frequently, leading to an insufficient number of weak learners being utilized.\n",
    "2. **Weighting Mechanism**: The sample weighting mechanism in the custom AdaBoost classifier, while theoretically sound, might not have been as effective in practice due to the inherent complexities of the dataset and the possible need for more nuanced handling of sample weights.\n",
    "3. **Base Estimator Performance**: The custom MLP classifier, while suitable in the previous experiment, may not have been as effective in the iterative boosting context, potentially due to overfitting or insufficient training iterations.\n",
    "\n",
    "\n",
    "\n",
    "The comparative results suggest that the earlier approach, which directly incorporated resampling with replacement within the MLP classifier, significantly outperformed the custom AdaBoost implementation. The higher accuracy and better performance across all classes in the previous method highlight the effectiveness of directly addressing class imbalance through resampling and utilizing a robust base estimator within an ensemble learning framework.\n",
    "\n",
    "Future work should focus on refining the custom AdaBoost implementation, potentially by:\n",
    "\n",
    "- Enhancing the sample weighting adjustment mechanism.\n",
    "- Exploring alternative base estimators better suited for the boosting process.\n",
    "- Increasing the robustness of error handling to prevent premature termination of the boosting iterations.\n",
    "\n",
    "Overall, the study underscores the importance of tailored resampling strategies and robust base estimators in achieving high classification performance, particularly in the context of imbalanced datasets."
   ],
   "id": "5c17b66aea7e7053"
  }
 ],
 "metadata": {
  "kernelspec": {
   "display_name": "Python 3",
   "language": "python",
   "name": "python3"
  },
  "language_info": {
   "codemirror_mode": {
    "name": "ipython",
    "version": 2
   },
   "file_extension": ".py",
   "mimetype": "text/x-python",
   "name": "python",
   "nbconvert_exporter": "python",
   "pygments_lexer": "ipython2",
   "version": "2.7.6"
  }
 },
 "nbformat": 4,
 "nbformat_minor": 5
}
